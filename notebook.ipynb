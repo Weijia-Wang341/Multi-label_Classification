{
  "cells": [
    {
      "cell_type": "markdown",
      "metadata": {
        "id": "i0IiS3iMXQrU"
      },
      "source": [
        "#1(a)"
      ]
    },
    {
      "cell_type": "code",
      "execution_count": 1,
      "metadata": {
        "id": "AHanrxFtZ6CF"
      },
      "outputs": [],
      "source": [
        "import imblearn\n",
        "from sklearn.preprocessing import StandardScaler\n",
        "from sklearn.svm import LinearSVC\n",
        "from sklearn.model_selection import GridSearchCV\n",
        "from sklearn.metrics import make_scorer\n",
        "from sklearn.metrics import hamming_loss\n",
        "from imblearn.pipeline import Pipeline\n",
        "from imblearn.over_sampling import SMOTE \n",
        "from sklearn.svm import SVC\n",
        "from sklearn.pipeline import Pipeline\n"
      ]
    },
    {
      "cell_type": "code",
      "execution_count": 21,
      "metadata": {
        "id": "G81M6SyjXJpv"
      },
      "outputs": [],
      "source": [
        "from sklearn.model_selection import train_test_split\n",
        "import pandas as pd\n",
        "\n",
        "#df = pd.read_csv('Frogs_MFCCs.csv', header=0)\n",
        "df = pd.read_csv('…/data/Frogs_MFCCs.csv', header=0)\n",
        "X = df.iloc[:,:22]\n",
        "y = df.iloc[:, 22:-1]\n",
        "X_train, X_test, y_train, y_test = train_test_split(\n",
        "    X, y, test_size=0.3, random_state=42)"
      ]
    },
    {
      "cell_type": "markdown",
      "metadata": {
        "id": "94APk3zibliW"
      },
      "source": [
        "#1b(i)"
      ]
    },
    {
      "cell_type": "markdown",
      "metadata": {
        "id": "e7-dmnUbwCaq"
      },
      "source": [
        "- Exact match means the prediction label is exactly matching with the true set of labels\n",
        "- Hamming loss is the portion of the wrong label to the total number of labels\n",
        "\n",
        "hamming loss is design for multi label classification "
      ]
    },
    {
      "cell_type": "markdown",
      "metadata": {
        "id": "OfeRDwYfahBl"
      },
      "source": [
        "#1b(ii)"
      ]
    },
    {
      "cell_type": "code",
      "execution_count": null,
      "metadata": {
        "colab": {
          "base_uri": "https://localhost:8080/"
        },
        "id": "k-hSPD_EWY-b",
        "outputId": "57b2b6a6-732d-4ffc-f05e-fff932a1affe"
      },
      "outputs": [],
      "source": [
        "for col in ['Family', 'Genus', 'Species']:\n",
        "  score = 0\n",
        "  param_grid = {'C': [0.1,0.2,0.3,0.4,0.5,0.6,0.7,0.8,0.9,1,1.1,1.2,1.3,1.4,1.5,1.6,1.7,1.8,1.9,2],'gamma': [-3, -2, -1, 0, 1, 2,3,4,5,6]}  \n",
        "  grid = GridSearchCV(SVC(), param_grid, refit = True, cv = 10, scoring = make_scorer(hamming_loss,greater_is_better=False)) \n",
        "  grid.fit(X, y[col])\n",
        "  print(grid.best_params_, col)"
      ]
    },
    {
      "cell_type": "markdown",
      "metadata": {
        "id": "myanEosQx9sT"
      },
      "source": [
        "Output:\n",
        "\n",
        "{'C': 0.4, 'gamma': 6} Family\n",
        "\n",
        "{'C': 1, 'gamma': 3} Genus\n",
        "\n",
        "{'C': 1, 'gamma': 3} Species"
      ]
    },
    {
      "cell_type": "markdown",
      "metadata": {
        "id": "a6Nrw2I-BZ6L"
      },
      "source": [
        "#1b(iii)"
      ]
    },
    {
      "cell_type": "code",
      "execution_count": null,
      "metadata": {
        "colab": {
          "base_uri": "https://localhost:8080/"
        },
        "id": "5KO-s30MBZSy",
        "outputId": "e2fce8f4-aa74-49cb-871b-d35fb3e4948e"
      },
      "outputs": [],
      "source": [
        "for col in ['Family', 'Genus', 'Species']:\n",
        "  param_grid = {'LinearSVC__penalty':['l1'],'LinearSVC__C': [0.1,0.2,0.3,0.4,0.5,0.6,0.7,0.8,0.9,1,1.1,1.2,1.3,1.4,1.5,1.6,1.7,1.8,1.9,2]}  \n",
        "  pipe = Pipeline([('scaler', StandardScaler()), ('LinearSVC', LinearSVC(penalty='l1', dual = False))])\n",
        "  grid = GridSearchCV(pipe, param_grid, refit = True, cv = 10, scoring = make_scorer(hamming_loss,greater_is_better=False), ) \n",
        "  grid.fit(X, y[col])\n",
        "  print(grid.best_params_, col)"
      ]
    },
    {
      "cell_type": "markdown",
      "metadata": {
        "id": "l9wUoz0RyhRA"
      },
      "source": [
        "Output:\n",
        "\n",
        "{'LinearSVC__C': 0.1} Family\n",
        "\n",
        "{'LinearSVC__C': 1.6} Genus\n",
        "\n",
        "{'LinearSVC__C': 0.5} Species"
      ]
    },
    {
      "cell_type": "markdown",
      "metadata": {
        "id": "Jyf6lI30oIfU"
      },
      "source": [
        "#1b(iv)"
      ]
    },
    {
      "cell_type": "code",
      "execution_count": null,
      "metadata": {
        "id": "A1T6vx1mnE8P"
      },
      "outputs": [],
      "source": [
        "\n",
        "for col in ['Family', 'Genus', 'Species']:\n",
        "  param_grid = {'LinearSVC__C': [0.1,0.2,0.3,0.4,0.5,0.6,0.7,0.8,0.9,1,1.1,1.2,1.3,1.4,1.5,1.6,1.7,1.8,1.9,2]}  \n",
        "  pipe = Pipeline([('smote', SMOTE()),('scaler', StandardScaler()), ('LinearSVC', LinearSVC(penalty='l1', dual = False))])\n",
        "  grid = GridSearchCV(pipe, param_grid, refit = True, cv = 10, scoring = make_scorer(hamming_loss,greater_is_better=False), ) \n",
        "  grid.fit(X, y[col])\n",
        "  print(grid.best_params_, col)"
      ]
    },
    {
      "cell_type": "markdown",
      "metadata": {
        "id": "iBeqZ325Bs56"
      },
      "source": [
        "{'LinearSVC__C': 1.7} Family\n",
        "\n",
        "{'LinearSVC__C': 1.2} Genus\n",
        "\n",
        "{'LinearSVC__C': 0.1} Species"
      ]
    },
    {
      "cell_type": "markdown",
      "metadata": {
        "id": "-Zom5acxNk8N"
      },
      "source": [
        "#1b(v)"
      ]
    },
    {
      "cell_type": "code",
      "execution_count": null,
      "metadata": {
        "id": "meVehX8kNn_7"
      },
      "outputs": [],
      "source": [
        "#Classifier Chain"
      ]
    },
    {
      "cell_type": "markdown",
      "metadata": {
        "id": "7eKPOeatwMYr"
      },
      "source": [
        "#1b(vi)"
      ]
    },
    {
      "cell_type": "markdown",
      "metadata": {
        "id": "31LYjNStwPK9"
      },
      "source": [
        "#2(a)(b)(c)"
      ]
    },
    {
      "cell_type": "code",
      "execution_count": 43,
      "metadata": {
        "colab": {
          "base_uri": "https://localhost:8080/"
        },
        "id": "3208OCDawPAS",
        "outputId": "35aeb4b3-f389-45c5-f133-fa694673c52a"
      },
      "outputs": [
        {
          "name": "stdout",
          "output_type": "stream",
          "text": [
            "when k is 2 , the best k is 2\n",
            "majority family is ['Leptodactylidae', 'Hylidae'] majority genus is ['Adenomera', 'Hypsiboas'] majority species is ['AdenomeraHylaedactylus', 'HypsiboasCordobae']\n",
            "hamming loss is 0.2985406532314107 hamming score is 0.7014593467685893 hamming distance is 0.3486778410277152\n",
            "when k is 3 , the best k is 2\n",
            "majority family is ['Leptodactylidae', 'Hylidae'] majority genus is ['Adenomera', 'Hypsiboas'] majority species is ['AdenomeraHylaedactylus', 'HypsiboasCordobae']\n",
            "hamming loss is 0.2985406532314107 hamming score is 0.7014593467685893 hamming distance is 0.36768245219926315\n",
            "when k is 4 , the best k is 2\n",
            "majority family is ['Leptodactylidae', 'Hylidae'] majority genus is ['Adenomera', 'Hypsiboas'] majority species is ['AdenomeraHylaedactylus', 'HypsiboasCordobae']\n",
            "hamming loss is 0.2985406532314107 hamming score is 0.7014593467685893 hamming distance is 0.3788646212055977\n",
            "when k is 5 , the best k is 2\n",
            "majority family is ['Leptodactylidae', 'Hylidae'] majority genus is ['Adenomera', 'Hypsiboas'] majority species is ['AdenomeraHylaedactylus', 'HypsiboasCordobae']\n",
            "hamming loss is 0.2985406532314107 hamming score is 0.7014593467685893 hamming distance is 0.37148280578022025\n",
            "when k is 6 , the best k is 6\n",
            "majority family is ['Dendrobatidae', 'Leptodactylidae', 'Leptodactylidae', 'Hylidae', 'Hylidae', 'Leptodactylidae'] majority genus is ['Ameerega', 'Adenomera', 'Adenomera', 'Hypsiboas', 'Hypsiboas', 'Adenomera'] majority species is ['Ameeregatrivittata', 'AdenomeraHylaedactylus', 'AdenomeraAndre', 'HypsiboasCinerascens', 'HypsiboasCordobae', 'AdenomeraHylaedactylus']\n",
            "hamming loss is 0.16817234190410008 hamming score is 0.8318276580959 hamming distance is 0.264008021116715\n",
            "when k is 7 , the best k is 7\n",
            "majority family is ['Hylidae', 'Leptodactylidae', 'Hylidae', 'Leptodactylidae', 'Hylidae', 'Leptodactylidae', 'Leptodactylidae'] majority genus is ['Hypsiboas', 'Adenomera', 'Hypsiboas', 'Adenomera', 'Hypsiboas', 'Adenomera', 'Adenomera'] majority species is ['HypsiboasCinerascens', 'AdenomeraHylaedactylus', 'HypsiboasCordobae', 'AdenomeraAndre', 'HypsiboasCordobae', 'AdenomeraHylaedactylus', 'AdenomeraAndre']\n",
            "hamming loss is 0.19383831364373408 hamming score is 0.806161686356266 hamming distance is 0.26063587785642767\n",
            "when k is 8 , the best k is 7\n",
            "majority family is ['Hylidae', 'Leptodactylidae', 'Hylidae', 'Leptodactylidae', 'Hylidae', 'Leptodactylidae', 'Leptodactylidae'] majority genus is ['Hypsiboas', 'Adenomera', 'Hypsiboas', 'Adenomera', 'Hypsiboas', 'Adenomera', 'Adenomera'] majority species is ['HypsiboasCinerascens', 'AdenomeraHylaedactylus', 'HypsiboasCordobae', 'AdenomeraAndre', 'HypsiboasCordobae', 'AdenomeraHylaedactylus', 'AdenomeraAndre']\n",
            "hamming loss is 0.19383831364373408 hamming score is 0.806161686356266 hamming distance is 0.2701127124725302\n",
            "when k is 9 , the best k is 9\n",
            "majority family is ['Leptodactylidae', 'Leptodactylidae', 'Hylidae', 'Leptodactylidae', 'Leptodactylidae', 'Leptodactylidae', 'Leptodactylidae', 'Hylidae', 'Hylidae'] majority genus is ['Adenomera', 'Leptodactylus', 'Hypsiboas', 'Adenomera', 'Adenomera', 'Adenomera', 'Adenomera', 'Hypsiboas', 'Hypsiboas'] majority species is ['AdenomeraHylaedactylus', 'LeptodactylusFuscus', 'HypsiboasCordobae', 'AdenomeraAndre', 'AdenomeraAndre', 'AdenomeraHylaedactylus', 'AdenomeraHylaedactylus', 'HypsiboasCinerascens', 'HypsiboasCordobae']\n",
            "hamming loss is 0.18767662728746815 hamming score is 0.8123233727125319 hamming distance is 0.2593484650214525\n",
            "when k is 10 , the best k is 9\n",
            "majority family is ['Leptodactylidae', 'Leptodactylidae', 'Hylidae', 'Leptodactylidae', 'Leptodactylidae', 'Leptodactylidae', 'Leptodactylidae', 'Hylidae', 'Hylidae'] majority genus is ['Adenomera', 'Leptodactylus', 'Hypsiboas', 'Adenomera', 'Adenomera', 'Adenomera', 'Adenomera', 'Hypsiboas', 'Hypsiboas'] majority species is ['AdenomeraHylaedactylus', 'LeptodactylusFuscus', 'HypsiboasCordobae', 'AdenomeraAndre', 'AdenomeraAndre', 'AdenomeraHylaedactylus', 'AdenomeraHylaedactylus', 'HypsiboasCinerascens', 'HypsiboasCordobae']\n",
            "hamming loss is 0.18767662728746815 hamming score is 0.8123233727125319 hamming distance is 0.2742648531329797\n",
            "when k is 11 , the best k is 9\n",
            "majority family is ['Leptodactylidae', 'Leptodactylidae', 'Hylidae', 'Leptodactylidae', 'Leptodactylidae', 'Leptodactylidae', 'Leptodactylidae', 'Hylidae', 'Hylidae'] majority genus is ['Adenomera', 'Leptodactylus', 'Hypsiboas', 'Adenomera', 'Adenomera', 'Adenomera', 'Adenomera', 'Hypsiboas', 'Hypsiboas'] majority species is ['AdenomeraHylaedactylus', 'LeptodactylusFuscus', 'HypsiboasCordobae', 'AdenomeraAndre', 'AdenomeraAndre', 'AdenomeraHylaedactylus', 'AdenomeraHylaedactylus', 'HypsiboasCinerascens', 'HypsiboasCordobae']\n",
            "hamming loss is 0.18767662728746815 hamming score is 0.8123233727125319 hamming distance is 0.27380827631665744\n",
            "when k is 12 , the best k is 9\n",
            "majority family is ['Leptodactylidae', 'Leptodactylidae', 'Hylidae', 'Leptodactylidae', 'Leptodactylidae', 'Leptodactylidae', 'Leptodactylidae', 'Hylidae', 'Hylidae'] majority genus is ['Adenomera', 'Leptodactylus', 'Hypsiboas', 'Adenomera', 'Adenomera', 'Adenomera', 'Adenomera', 'Hypsiboas', 'Hypsiboas'] majority species is ['AdenomeraHylaedactylus', 'LeptodactylusFuscus', 'HypsiboasCordobae', 'AdenomeraAndre', 'AdenomeraAndre', 'AdenomeraHylaedactylus', 'AdenomeraHylaedactylus', 'HypsiboasCinerascens', 'HypsiboasCordobae']\n",
            "hamming loss is 0.18767662728746815 hamming score is 0.8123233727125319 hamming distance is 0.27001925880408606\n",
            "when k is 13 , the best k is 9\n",
            "majority family is ['Leptodactylidae', 'Leptodactylidae', 'Hylidae', 'Leptodactylidae', 'Leptodactylidae', 'Leptodactylidae', 'Leptodactylidae', 'Hylidae', 'Hylidae'] majority genus is ['Adenomera', 'Leptodactylus', 'Hypsiboas', 'Adenomera', 'Adenomera', 'Adenomera', 'Adenomera', 'Hypsiboas', 'Hypsiboas'] majority species is ['AdenomeraHylaedactylus', 'LeptodactylusFuscus', 'HypsiboasCordobae', 'AdenomeraAndre', 'AdenomeraAndre', 'AdenomeraHylaedactylus', 'AdenomeraHylaedactylus', 'HypsiboasCinerascens', 'HypsiboasCordobae']\n",
            "hamming loss is 0.18767662728746815 hamming score is 0.8123233727125319 hamming distance is 0.27515917098506426\n",
            "when k is 14 , the best k is 9\n",
            "majority family is ['Leptodactylidae', 'Leptodactylidae', 'Hylidae', 'Leptodactylidae', 'Leptodactylidae', 'Leptodactylidae', 'Leptodactylidae', 'Hylidae', 'Hylidae'] majority genus is ['Adenomera', 'Leptodactylus', 'Hypsiboas', 'Adenomera', 'Adenomera', 'Adenomera', 'Adenomera', 'Hypsiboas', 'Hypsiboas'] majority species is ['AdenomeraHylaedactylus', 'LeptodactylusFuscus', 'HypsiboasCordobae', 'AdenomeraAndre', 'AdenomeraAndre', 'AdenomeraHylaedactylus', 'AdenomeraHylaedactylus', 'HypsiboasCinerascens', 'HypsiboasCordobae']\n",
            "hamming loss is 0.18767662728746815 hamming score is 0.8123233727125319 hamming distance is 0.2648222222041381\n",
            "when k is 15 , the best k is 9\n",
            "majority family is ['Leptodactylidae', 'Leptodactylidae', 'Hylidae', 'Leptodactylidae', 'Leptodactylidae', 'Leptodactylidae', 'Leptodactylidae', 'Hylidae', 'Hylidae'] majority genus is ['Adenomera', 'Leptodactylus', 'Hypsiboas', 'Adenomera', 'Adenomera', 'Adenomera', 'Adenomera', 'Hypsiboas', 'Hypsiboas'] majority species is ['AdenomeraHylaedactylus', 'LeptodactylusFuscus', 'HypsiboasCordobae', 'AdenomeraAndre', 'AdenomeraAndre', 'AdenomeraHylaedactylus', 'AdenomeraHylaedactylus', 'HypsiboasCinerascens', 'HypsiboasCordobae']\n",
            "hamming loss is 0.18767662728746815 hamming score is 0.8123233727125319 hamming distance is 0.27173408887869066\n",
            "when k is 16 , the best k is 9\n",
            "majority family is ['Leptodactylidae', 'Leptodactylidae', 'Hylidae', 'Leptodactylidae', 'Leptodactylidae', 'Leptodactylidae', 'Leptodactylidae', 'Hylidae', 'Hylidae'] majority genus is ['Adenomera', 'Leptodactylus', 'Hypsiboas', 'Adenomera', 'Adenomera', 'Adenomera', 'Adenomera', 'Hypsiboas', 'Hypsiboas'] majority species is ['AdenomeraHylaedactylus', 'LeptodactylusFuscus', 'HypsiboasCordobae', 'AdenomeraAndre', 'AdenomeraAndre', 'AdenomeraHylaedactylus', 'AdenomeraHylaedactylus', 'HypsiboasCinerascens', 'HypsiboasCordobae']\n",
            "hamming loss is 0.18767662728746815 hamming score is 0.8123233727125319 hamming distance is 0.27458672419078123\n",
            "when k is 17 , the best k is 9\n",
            "majority family is ['Leptodactylidae', 'Leptodactylidae', 'Hylidae', 'Leptodactylidae', 'Leptodactylidae', 'Leptodactylidae', 'Leptodactylidae', 'Hylidae', 'Hylidae'] majority genus is ['Adenomera', 'Leptodactylus', 'Hypsiboas', 'Adenomera', 'Adenomera', 'Adenomera', 'Adenomera', 'Hypsiboas', 'Hypsiboas'] majority species is ['AdenomeraHylaedactylus', 'LeptodactylusFuscus', 'HypsiboasCordobae', 'AdenomeraAndre', 'AdenomeraAndre', 'AdenomeraHylaedactylus', 'AdenomeraHylaedactylus', 'HypsiboasCinerascens', 'HypsiboasCordobae']\n",
            "hamming loss is 0.18767662728746815 hamming score is 0.8123233727125319 hamming distance is 0.27405767297902495\n",
            "when k is 18 , the best k is 9\n",
            "majority family is ['Leptodactylidae', 'Leptodactylidae', 'Hylidae', 'Leptodactylidae', 'Leptodactylidae', 'Leptodactylidae', 'Leptodactylidae', 'Hylidae', 'Hylidae'] majority genus is ['Adenomera', 'Leptodactylus', 'Hypsiboas', 'Adenomera', 'Adenomera', 'Adenomera', 'Adenomera', 'Hypsiboas', 'Hypsiboas'] majority species is ['AdenomeraHylaedactylus', 'LeptodactylusFuscus', 'HypsiboasCordobae', 'AdenomeraAndre', 'AdenomeraAndre', 'AdenomeraHylaedactylus', 'AdenomeraHylaedactylus', 'HypsiboasCinerascens', 'HypsiboasCordobae']\n",
            "hamming loss is 0.18767662728746815 hamming score is 0.8123233727125319 hamming distance is 0.2770005449981291\n",
            "when k is 19 , the best k is 9\n",
            "majority family is ['Leptodactylidae', 'Leptodactylidae', 'Hylidae', 'Leptodactylidae', 'Leptodactylidae', 'Leptodactylidae', 'Leptodactylidae', 'Hylidae', 'Hylidae'] majority genus is ['Adenomera', 'Leptodactylus', 'Hypsiboas', 'Adenomera', 'Adenomera', 'Adenomera', 'Adenomera', 'Hypsiboas', 'Hypsiboas'] majority species is ['AdenomeraHylaedactylus', 'LeptodactylusFuscus', 'HypsiboasCordobae', 'AdenomeraAndre', 'AdenomeraAndre', 'AdenomeraHylaedactylus', 'AdenomeraHylaedactylus', 'HypsiboasCinerascens', 'HypsiboasCordobae']\n",
            "hamming loss is 0.18767662728746815 hamming score is 0.8123233727125319 hamming distance is 0.2759338449413982\n",
            "when k is 20 , the best k is 9\n",
            "majority family is ['Leptodactylidae', 'Leptodactylidae', 'Hylidae', 'Leptodactylidae', 'Leptodactylidae', 'Leptodactylidae', 'Leptodactylidae', 'Hylidae', 'Hylidae'] majority genus is ['Adenomera', 'Leptodactylus', 'Hypsiboas', 'Adenomera', 'Adenomera', 'Adenomera', 'Adenomera', 'Hypsiboas', 'Hypsiboas'] majority species is ['AdenomeraHylaedactylus', 'LeptodactylusFuscus', 'HypsiboasCordobae', 'AdenomeraAndre', 'AdenomeraAndre', 'AdenomeraHylaedactylus', 'AdenomeraHylaedactylus', 'HypsiboasCinerascens', 'HypsiboasCordobae']\n",
            "hamming loss is 0.18767662728746815 hamming score is 0.8123233727125319 hamming distance is 0.28264639556469745\n",
            "when k is 21 , the best k is 9\n",
            "majority family is ['Leptodactylidae', 'Leptodactylidae', 'Hylidae', 'Leptodactylidae', 'Leptodactylidae', 'Leptodactylidae', 'Leptodactylidae', 'Hylidae', 'Hylidae'] majority genus is ['Adenomera', 'Leptodactylus', 'Hypsiboas', 'Adenomera', 'Adenomera', 'Adenomera', 'Adenomera', 'Hypsiboas', 'Hypsiboas'] majority species is ['AdenomeraHylaedactylus', 'LeptodactylusFuscus', 'HypsiboasCordobae', 'AdenomeraAndre', 'AdenomeraAndre', 'AdenomeraHylaedactylus', 'AdenomeraHylaedactylus', 'HypsiboasCinerascens', 'HypsiboasCordobae']\n",
            "hamming loss is 0.18767662728746815 hamming score is 0.8123233727125319 hamming distance is 0.2648021742118779\n",
            "when k is 22 , the best k is 9\n",
            "majority family is ['Leptodactylidae', 'Leptodactylidae', 'Hylidae', 'Leptodactylidae', 'Leptodactylidae', 'Leptodactylidae', 'Leptodactylidae', 'Hylidae', 'Hylidae'] majority genus is ['Adenomera', 'Leptodactylus', 'Hypsiboas', 'Adenomera', 'Adenomera', 'Adenomera', 'Adenomera', 'Hypsiboas', 'Hypsiboas'] majority species is ['AdenomeraHylaedactylus', 'LeptodactylusFuscus', 'HypsiboasCordobae', 'AdenomeraAndre', 'AdenomeraAndre', 'AdenomeraHylaedactylus', 'AdenomeraHylaedactylus', 'HypsiboasCinerascens', 'HypsiboasCordobae']\n",
            "hamming loss is 0.18767662728746815 hamming score is 0.8123233727125319 hamming distance is 0.2622790947664044\n",
            "when k is 23 , the best k is 9\n",
            "majority family is ['Leptodactylidae', 'Leptodactylidae', 'Hylidae', 'Leptodactylidae', 'Leptodactylidae', 'Leptodactylidae', 'Leptodactylidae', 'Hylidae', 'Hylidae'] majority genus is ['Adenomera', 'Leptodactylus', 'Hypsiboas', 'Adenomera', 'Adenomera', 'Adenomera', 'Adenomera', 'Hypsiboas', 'Hypsiboas'] majority species is ['AdenomeraHylaedactylus', 'LeptodactylusFuscus', 'HypsiboasCordobae', 'AdenomeraAndre', 'AdenomeraAndre', 'AdenomeraHylaedactylus', 'AdenomeraHylaedactylus', 'HypsiboasCinerascens', 'HypsiboasCordobae']\n",
            "hamming loss is 0.18767662728746815 hamming score is 0.8123233727125319 hamming distance is 0.26565791360468405\n",
            "when k is 24 , the best k is 9\n",
            "majority family is ['Leptodactylidae', 'Leptodactylidae', 'Hylidae', 'Leptodactylidae', 'Leptodactylidae', 'Leptodactylidae', 'Leptodactylidae', 'Hylidae', 'Hylidae'] majority genus is ['Adenomera', 'Leptodactylus', 'Hypsiboas', 'Adenomera', 'Adenomera', 'Adenomera', 'Adenomera', 'Hypsiboas', 'Hypsiboas'] majority species is ['AdenomeraHylaedactylus', 'LeptodactylusFuscus', 'HypsiboasCordobae', 'AdenomeraAndre', 'AdenomeraAndre', 'AdenomeraHylaedactylus', 'AdenomeraHylaedactylus', 'HypsiboasCinerascens', 'HypsiboasCordobae']\n",
            "hamming loss is 0.18767662728746815 hamming score is 0.8123233727125319 hamming distance is 0.27060953035663915\n",
            "when k is 25 , the best k is 9\n",
            "majority family is ['Leptodactylidae', 'Leptodactylidae', 'Hylidae', 'Leptodactylidae', 'Leptodactylidae', 'Leptodactylidae', 'Leptodactylidae', 'Hylidae', 'Hylidae'] majority genus is ['Adenomera', 'Leptodactylus', 'Hypsiboas', 'Adenomera', 'Adenomera', 'Adenomera', 'Adenomera', 'Hypsiboas', 'Hypsiboas'] majority species is ['AdenomeraHylaedactylus', 'LeptodactylusFuscus', 'HypsiboasCordobae', 'AdenomeraAndre', 'AdenomeraAndre', 'AdenomeraHylaedactylus', 'AdenomeraHylaedactylus', 'HypsiboasCinerascens', 'HypsiboasCordobae']\n",
            "hamming loss is 0.18767662728746815 hamming score is 0.8123233727125319 hamming distance is 0.26340110967290464\n",
            "when k is 26 , the best k is 9\n",
            "majority family is ['Leptodactylidae', 'Leptodactylidae', 'Hylidae', 'Leptodactylidae', 'Leptodactylidae', 'Leptodactylidae', 'Leptodactylidae', 'Hylidae', 'Hylidae'] majority genus is ['Adenomera', 'Leptodactylus', 'Hypsiboas', 'Adenomera', 'Adenomera', 'Adenomera', 'Adenomera', 'Hypsiboas', 'Hypsiboas'] majority species is ['AdenomeraHylaedactylus', 'LeptodactylusFuscus', 'HypsiboasCordobae', 'AdenomeraAndre', 'AdenomeraAndre', 'AdenomeraHylaedactylus', 'AdenomeraHylaedactylus', 'HypsiboasCinerascens', 'HypsiboasCordobae']\n",
            "hamming loss is 0.18767662728746815 hamming score is 0.8123233727125319 hamming distance is 0.26698521264660846\n",
            "when k is 27 , the best k is 9\n",
            "majority family is ['Leptodactylidae', 'Leptodactylidae', 'Hylidae', 'Leptodactylidae', 'Leptodactylidae', 'Leptodactylidae', 'Leptodactylidae', 'Hylidae', 'Hylidae'] majority genus is ['Adenomera', 'Leptodactylus', 'Hypsiboas', 'Adenomera', 'Adenomera', 'Adenomera', 'Adenomera', 'Hypsiboas', 'Hypsiboas'] majority species is ['AdenomeraHylaedactylus', 'LeptodactylusFuscus', 'HypsiboasCordobae', 'AdenomeraAndre', 'AdenomeraAndre', 'AdenomeraHylaedactylus', 'AdenomeraHylaedactylus', 'HypsiboasCinerascens', 'HypsiboasCordobae']\n",
            "hamming loss is 0.18767662728746815 hamming score is 0.8123233727125319 hamming distance is 0.2747662750657185\n",
            "when k is 28 , the best k is 9\n",
            "majority family is ['Leptodactylidae', 'Leptodactylidae', 'Hylidae', 'Leptodactylidae', 'Leptodactylidae', 'Leptodactylidae', 'Leptodactylidae', 'Hylidae', 'Hylidae'] majority genus is ['Adenomera', 'Leptodactylus', 'Hypsiboas', 'Adenomera', 'Adenomera', 'Adenomera', 'Adenomera', 'Hypsiboas', 'Hypsiboas'] majority species is ['AdenomeraHylaedactylus', 'LeptodactylusFuscus', 'HypsiboasCordobae', 'AdenomeraAndre', 'AdenomeraAndre', 'AdenomeraHylaedactylus', 'AdenomeraHylaedactylus', 'HypsiboasCinerascens', 'HypsiboasCordobae']\n",
            "hamming loss is 0.18767662728746815 hamming score is 0.8123233727125319 hamming distance is 0.2669996567519261\n",
            "when k is 29 , the best k is 9\n",
            "majority family is ['Leptodactylidae', 'Leptodactylidae', 'Hylidae', 'Leptodactylidae', 'Leptodactylidae', 'Leptodactylidae', 'Leptodactylidae', 'Hylidae', 'Hylidae'] majority genus is ['Adenomera', 'Leptodactylus', 'Hypsiboas', 'Adenomera', 'Adenomera', 'Adenomera', 'Adenomera', 'Hypsiboas', 'Hypsiboas'] majority species is ['AdenomeraHylaedactylus', 'LeptodactylusFuscus', 'HypsiboasCordobae', 'AdenomeraAndre', 'AdenomeraAndre', 'AdenomeraHylaedactylus', 'AdenomeraHylaedactylus', 'HypsiboasCinerascens', 'HypsiboasCordobae']\n",
            "hamming loss is 0.18767662728746815 hamming score is 0.8123233727125319 hamming distance is 0.2658487336471367\n",
            "when k is 30 , the best k is 30\n",
            "majority family is ['Dendrobatidae', 'Leptodactylidae', 'Hylidae', 'Leptodactylidae', 'Hylidae', 'Leptodactylidae', 'Dendrobatidae', 'Leptodactylidae', 'Hylidae', 'Leptodactylidae', 'Leptodactylidae', 'Leptodactylidae', 'Hylidae', 'Dendrobatidae', 'Dendrobatidae', 'Leptodactylidae', 'Hylidae', 'Leptodactylidae', 'Leptodactylidae', 'Leptodactylidae', 'Hylidae', 'Leptodactylidae', 'Hylidae', 'Leptodactylidae', 'Hylidae', 'Hylidae', 'Hylidae', 'Hylidae', 'Leptodactylidae', 'Hylidae'] majority genus is ['Ameerega', 'Adenomera', 'Rhinella', 'Adenomera', 'Hypsiboas', 'Adenomera', 'Ameerega', 'Adenomera', 'Hypsiboas', 'Adenomera', 'Adenomera', 'Leptodactylus', 'Hypsiboas', 'Ameerega', 'Ameerega', 'Adenomera', 'Dendropsophus', 'Adenomera', 'Adenomera', 'Leptodactylus', 'Dendropsophus', 'Adenomera', 'Scinax', 'Adenomera', 'Hypsiboas', 'Hypsiboas', 'Osteocephalus', 'Hypsiboas', 'Adenomera', 'Scinax'] majority species is ['Ameeregatrivittata', 'AdenomeraHylaedactylus', 'Rhinellagranulosa', 'AdenomeraHylaedactylus', 'HypsiboasCinerascens', 'AdenomeraAndre', 'Ameeregatrivittata', 'AdenomeraAndre', 'HypsiboasCinerascens', 'AdenomeraHylaedactylus', 'AdenomeraHylaedactylus', 'LeptodactylusFuscus', 'HypsiboasCordobae', 'Ameeregatrivittata', 'Ameeregatrivittata', 'AdenomeraHylaedactylus', 'HylaMinuta', 'AdenomeraHylaedactylus', 'AdenomeraHylaedactylus', 'LeptodactylusFuscus', 'HylaMinuta', 'AdenomeraHylaedactylus', 'ScinaxRuber', 'AdenomeraAndre', 'HypsiboasCordobae', 'HypsiboasCinerascens', 'OsteocephalusOophagus', 'HypsiboasCordobae', 'AdenomeraHylaedactylus', 'ScinaxRuber']\n",
            "hamming loss is 0.05012740328932129 hamming score is 0.9498725967106787 hamming distance is 0.2574454639576556\n",
            "when k is 31 , the best k is 30\n",
            "majority family is ['Dendrobatidae', 'Leptodactylidae', 'Hylidae', 'Leptodactylidae', 'Hylidae', 'Leptodactylidae', 'Dendrobatidae', 'Leptodactylidae', 'Hylidae', 'Leptodactylidae', 'Leptodactylidae', 'Leptodactylidae', 'Hylidae', 'Dendrobatidae', 'Dendrobatidae', 'Leptodactylidae', 'Hylidae', 'Leptodactylidae', 'Leptodactylidae', 'Leptodactylidae', 'Hylidae', 'Leptodactylidae', 'Hylidae', 'Leptodactylidae', 'Hylidae', 'Hylidae', 'Hylidae', 'Hylidae', 'Leptodactylidae', 'Hylidae'] majority genus is ['Ameerega', 'Adenomera', 'Rhinella', 'Adenomera', 'Hypsiboas', 'Adenomera', 'Ameerega', 'Adenomera', 'Hypsiboas', 'Adenomera', 'Adenomera', 'Leptodactylus', 'Hypsiboas', 'Ameerega', 'Ameerega', 'Adenomera', 'Dendropsophus', 'Adenomera', 'Adenomera', 'Leptodactylus', 'Dendropsophus', 'Adenomera', 'Scinax', 'Adenomera', 'Hypsiboas', 'Hypsiboas', 'Osteocephalus', 'Hypsiboas', 'Adenomera', 'Scinax'] majority species is ['Ameeregatrivittata', 'AdenomeraHylaedactylus', 'Rhinellagranulosa', 'AdenomeraHylaedactylus', 'HypsiboasCinerascens', 'AdenomeraAndre', 'Ameeregatrivittata', 'AdenomeraAndre', 'HypsiboasCinerascens', 'AdenomeraHylaedactylus', 'AdenomeraHylaedactylus', 'LeptodactylusFuscus', 'HypsiboasCordobae', 'Ameeregatrivittata', 'Ameeregatrivittata', 'AdenomeraHylaedactylus', 'HylaMinuta', 'AdenomeraHylaedactylus', 'AdenomeraHylaedactylus', 'LeptodactylusFuscus', 'HylaMinuta', 'AdenomeraHylaedactylus', 'ScinaxRuber', 'AdenomeraAndre', 'HypsiboasCordobae', 'HypsiboasCinerascens', 'OsteocephalusOophagus', 'HypsiboasCordobae', 'AdenomeraHylaedactylus', 'ScinaxRuber']\n",
            "hamming loss is 0.05012740328932129 hamming score is 0.9498725967106787 hamming distance is 0.26388914956262843\n",
            "when k is 32 , the best k is 30\n",
            "majority family is ['Dendrobatidae', 'Leptodactylidae', 'Hylidae', 'Leptodactylidae', 'Hylidae', 'Leptodactylidae', 'Dendrobatidae', 'Leptodactylidae', 'Hylidae', 'Leptodactylidae', 'Leptodactylidae', 'Leptodactylidae', 'Hylidae', 'Dendrobatidae', 'Dendrobatidae', 'Leptodactylidae', 'Hylidae', 'Leptodactylidae', 'Leptodactylidae', 'Leptodactylidae', 'Hylidae', 'Leptodactylidae', 'Hylidae', 'Leptodactylidae', 'Hylidae', 'Hylidae', 'Hylidae', 'Hylidae', 'Leptodactylidae', 'Hylidae'] majority genus is ['Ameerega', 'Adenomera', 'Rhinella', 'Adenomera', 'Hypsiboas', 'Adenomera', 'Ameerega', 'Adenomera', 'Hypsiboas', 'Adenomera', 'Adenomera', 'Leptodactylus', 'Hypsiboas', 'Ameerega', 'Ameerega', 'Adenomera', 'Dendropsophus', 'Adenomera', 'Adenomera', 'Leptodactylus', 'Dendropsophus', 'Adenomera', 'Scinax', 'Adenomera', 'Hypsiboas', 'Hypsiboas', 'Osteocephalus', 'Hypsiboas', 'Adenomera', 'Scinax'] majority species is ['Ameeregatrivittata', 'AdenomeraHylaedactylus', 'Rhinellagranulosa', 'AdenomeraHylaedactylus', 'HypsiboasCinerascens', 'AdenomeraAndre', 'Ameeregatrivittata', 'AdenomeraAndre', 'HypsiboasCinerascens', 'AdenomeraHylaedactylus', 'AdenomeraHylaedactylus', 'LeptodactylusFuscus', 'HypsiboasCordobae', 'Ameeregatrivittata', 'Ameeregatrivittata', 'AdenomeraHylaedactylus', 'HylaMinuta', 'AdenomeraHylaedactylus', 'AdenomeraHylaedactylus', 'LeptodactylusFuscus', 'HylaMinuta', 'AdenomeraHylaedactylus', 'ScinaxRuber', 'AdenomeraAndre', 'HypsiboasCordobae', 'HypsiboasCinerascens', 'OsteocephalusOophagus', 'HypsiboasCordobae', 'AdenomeraHylaedactylus', 'ScinaxRuber']\n",
            "hamming loss is 0.05012740328932129 hamming score is 0.9498725967106787 hamming distance is 0.26670676273376065\n",
            "when k is 33 , the best k is 30\n",
            "majority family is ['Dendrobatidae', 'Leptodactylidae', 'Hylidae', 'Leptodactylidae', 'Hylidae', 'Leptodactylidae', 'Dendrobatidae', 'Leptodactylidae', 'Hylidae', 'Leptodactylidae', 'Leptodactylidae', 'Leptodactylidae', 'Hylidae', 'Dendrobatidae', 'Dendrobatidae', 'Leptodactylidae', 'Hylidae', 'Leptodactylidae', 'Leptodactylidae', 'Leptodactylidae', 'Hylidae', 'Leptodactylidae', 'Hylidae', 'Leptodactylidae', 'Hylidae', 'Hylidae', 'Hylidae', 'Hylidae', 'Leptodactylidae', 'Hylidae'] majority genus is ['Ameerega', 'Adenomera', 'Rhinella', 'Adenomera', 'Hypsiboas', 'Adenomera', 'Ameerega', 'Adenomera', 'Hypsiboas', 'Adenomera', 'Adenomera', 'Leptodactylus', 'Hypsiboas', 'Ameerega', 'Ameerega', 'Adenomera', 'Dendropsophus', 'Adenomera', 'Adenomera', 'Leptodactylus', 'Dendropsophus', 'Adenomera', 'Scinax', 'Adenomera', 'Hypsiboas', 'Hypsiboas', 'Osteocephalus', 'Hypsiboas', 'Adenomera', 'Scinax'] majority species is ['Ameeregatrivittata', 'AdenomeraHylaedactylus', 'Rhinellagranulosa', 'AdenomeraHylaedactylus', 'HypsiboasCinerascens', 'AdenomeraAndre', 'Ameeregatrivittata', 'AdenomeraAndre', 'HypsiboasCinerascens', 'AdenomeraHylaedactylus', 'AdenomeraHylaedactylus', 'LeptodactylusFuscus', 'HypsiboasCordobae', 'Ameeregatrivittata', 'Ameeregatrivittata', 'AdenomeraHylaedactylus', 'HylaMinuta', 'AdenomeraHylaedactylus', 'AdenomeraHylaedactylus', 'LeptodactylusFuscus', 'HylaMinuta', 'AdenomeraHylaedactylus', 'ScinaxRuber', 'AdenomeraAndre', 'HypsiboasCordobae', 'HypsiboasCinerascens', 'OsteocephalusOophagus', 'HypsiboasCordobae', 'AdenomeraHylaedactylus', 'ScinaxRuber']\n",
            "hamming loss is 0.05012740328932129 hamming score is 0.9498725967106787 hamming distance is 0.2666599885491163\n",
            "when k is 34 , the best k is 34\n",
            "majority family is ['Hylidae', 'Leptodactylidae', 'Leptodactylidae', 'Leptodactylidae', 'Dendrobatidae', 'Hylidae', 'Hylidae', 'Dendrobatidae', 'Leptodactylidae', 'Leptodactylidae', 'Leptodactylidae', 'Leptodactylidae', 'Leptodactylidae', 'Hylidae', 'Hylidae', 'Leptodactylidae', 'Dendrobatidae', 'Hylidae', 'Leptodactylidae', 'Hylidae', 'Leptodactylidae', 'Leptodactylidae', 'Hylidae', 'Hylidae', 'Leptodactylidae', 'Leptodactylidae', 'Hylidae', 'Hylidae', 'Leptodactylidae', 'Hylidae', 'Dendrobatidae', 'Leptodactylidae', 'Hylidae', 'Hylidae'] majority genus is ['Hypsiboas', 'Adenomera', 'Adenomera', 'Adenomera', 'Ameerega', 'Hypsiboas', 'Hypsiboas', 'Ameerega', 'Adenomera', 'Adenomera', 'Adenomera', 'Leptodactylus', 'Adenomera', 'Hypsiboas', 'Dendropsophus', 'Leptodactylus', 'Ameerega', 'Hypsiboas', 'Adenomera', 'Osteocephalus', 'Adenomera', 'Adenomera', 'Rhinella', 'Scinax', 'Adenomera', 'Adenomera', 'Scinax', 'Dendropsophus', 'Adenomera', 'Hypsiboas', 'Ameerega', 'Adenomera', 'Hypsiboas', 'Hypsiboas'] majority species is ['HypsiboasCordobae', 'AdenomeraHylaedactylus', 'AdenomeraAndre', 'AdenomeraHylaedactylus', 'Ameeregatrivittata', 'HypsiboasCinerascens', 'HypsiboasCordobae', 'Ameeregatrivittata', 'AdenomeraAndre', 'AdenomeraHylaedactylus', 'AdenomeraHylaedactylus', 'LeptodactylusFuscus', 'AdenomeraAndre', 'HypsiboasCordobae', 'HylaMinuta', 'LeptodactylusFuscus', 'Ameeregatrivittata', 'HypsiboasCinerascens', 'AdenomeraHylaedactylus', 'OsteocephalusOophagus', 'AdenomeraHylaedactylus', 'AdenomeraAndre', 'Rhinellagranulosa', 'ScinaxRuber', 'AdenomeraHylaedactylus', 'AdenomeraHylaedactylus', 'ScinaxRuber', 'HylaMinuta', 'AdenomeraHylaedactylus', 'HypsiboasCinerascens', 'Ameeregatrivittata', 'AdenomeraHylaedactylus', 'HypsiboasCordobae', 'HypsiboasCordobae']\n",
            "hamming loss is 0.05327773917072041 hamming score is 0.9467222608292796 hamming distance is 0.24516285165656573\n",
            "when k is 35 , the best k is 34\n",
            "majority family is ['Hylidae', 'Leptodactylidae', 'Leptodactylidae', 'Leptodactylidae', 'Dendrobatidae', 'Hylidae', 'Hylidae', 'Dendrobatidae', 'Leptodactylidae', 'Leptodactylidae', 'Leptodactylidae', 'Leptodactylidae', 'Leptodactylidae', 'Hylidae', 'Hylidae', 'Leptodactylidae', 'Dendrobatidae', 'Hylidae', 'Leptodactylidae', 'Hylidae', 'Leptodactylidae', 'Leptodactylidae', 'Hylidae', 'Hylidae', 'Leptodactylidae', 'Leptodactylidae', 'Hylidae', 'Hylidae', 'Leptodactylidae', 'Hylidae', 'Dendrobatidae', 'Leptodactylidae', 'Hylidae', 'Hylidae'] majority genus is ['Hypsiboas', 'Adenomera', 'Adenomera', 'Adenomera', 'Ameerega', 'Hypsiboas', 'Hypsiboas', 'Ameerega', 'Adenomera', 'Adenomera', 'Adenomera', 'Leptodactylus', 'Adenomera', 'Hypsiboas', 'Dendropsophus', 'Leptodactylus', 'Ameerega', 'Hypsiboas', 'Adenomera', 'Osteocephalus', 'Adenomera', 'Adenomera', 'Rhinella', 'Scinax', 'Adenomera', 'Adenomera', 'Scinax', 'Dendropsophus', 'Adenomera', 'Hypsiboas', 'Ameerega', 'Adenomera', 'Hypsiboas', 'Hypsiboas'] majority species is ['HypsiboasCordobae', 'AdenomeraHylaedactylus', 'AdenomeraAndre', 'AdenomeraHylaedactylus', 'Ameeregatrivittata', 'HypsiboasCinerascens', 'HypsiboasCordobae', 'Ameeregatrivittata', 'AdenomeraAndre', 'AdenomeraHylaedactylus', 'AdenomeraHylaedactylus', 'LeptodactylusFuscus', 'AdenomeraAndre', 'HypsiboasCordobae', 'HylaMinuta', 'LeptodactylusFuscus', 'Ameeregatrivittata', 'HypsiboasCinerascens', 'AdenomeraHylaedactylus', 'OsteocephalusOophagus', 'AdenomeraHylaedactylus', 'AdenomeraAndre', 'Rhinellagranulosa', 'ScinaxRuber', 'AdenomeraHylaedactylus', 'AdenomeraHylaedactylus', 'ScinaxRuber', 'HylaMinuta', 'AdenomeraHylaedactylus', 'HypsiboasCinerascens', 'Ameeregatrivittata', 'AdenomeraHylaedactylus', 'HypsiboasCordobae', 'HypsiboasCordobae']\n",
            "hamming loss is 0.05327773917072041 hamming score is 0.9467222608292796 hamming distance is 0.2453636017982343\n",
            "when k is 36 , the best k is 34\n",
            "majority family is ['Hylidae', 'Leptodactylidae', 'Leptodactylidae', 'Leptodactylidae', 'Dendrobatidae', 'Hylidae', 'Hylidae', 'Dendrobatidae', 'Leptodactylidae', 'Leptodactylidae', 'Leptodactylidae', 'Leptodactylidae', 'Leptodactylidae', 'Hylidae', 'Hylidae', 'Leptodactylidae', 'Dendrobatidae', 'Hylidae', 'Leptodactylidae', 'Hylidae', 'Leptodactylidae', 'Leptodactylidae', 'Hylidae', 'Hylidae', 'Leptodactylidae', 'Leptodactylidae', 'Hylidae', 'Hylidae', 'Leptodactylidae', 'Hylidae', 'Dendrobatidae', 'Leptodactylidae', 'Hylidae', 'Hylidae'] majority genus is ['Hypsiboas', 'Adenomera', 'Adenomera', 'Adenomera', 'Ameerega', 'Hypsiboas', 'Hypsiboas', 'Ameerega', 'Adenomera', 'Adenomera', 'Adenomera', 'Leptodactylus', 'Adenomera', 'Hypsiboas', 'Dendropsophus', 'Leptodactylus', 'Ameerega', 'Hypsiboas', 'Adenomera', 'Osteocephalus', 'Adenomera', 'Adenomera', 'Rhinella', 'Scinax', 'Adenomera', 'Adenomera', 'Scinax', 'Dendropsophus', 'Adenomera', 'Hypsiboas', 'Ameerega', 'Adenomera', 'Hypsiboas', 'Hypsiboas'] majority species is ['HypsiboasCordobae', 'AdenomeraHylaedactylus', 'AdenomeraAndre', 'AdenomeraHylaedactylus', 'Ameeregatrivittata', 'HypsiboasCinerascens', 'HypsiboasCordobae', 'Ameeregatrivittata', 'AdenomeraAndre', 'AdenomeraHylaedactylus', 'AdenomeraHylaedactylus', 'LeptodactylusFuscus', 'AdenomeraAndre', 'HypsiboasCordobae', 'HylaMinuta', 'LeptodactylusFuscus', 'Ameeregatrivittata', 'HypsiboasCinerascens', 'AdenomeraHylaedactylus', 'OsteocephalusOophagus', 'AdenomeraHylaedactylus', 'AdenomeraAndre', 'Rhinellagranulosa', 'ScinaxRuber', 'AdenomeraHylaedactylus', 'AdenomeraHylaedactylus', 'ScinaxRuber', 'HylaMinuta', 'AdenomeraHylaedactylus', 'HypsiboasCinerascens', 'Ameeregatrivittata', 'AdenomeraHylaedactylus', 'HypsiboasCordobae', 'HypsiboasCordobae']\n",
            "hamming loss is 0.05327773917072041 hamming score is 0.9467222608292796 hamming distance is 0.2617873196538061\n",
            "when k is 37 , the best k is 34\n",
            "majority family is ['Hylidae', 'Leptodactylidae', 'Leptodactylidae', 'Leptodactylidae', 'Dendrobatidae', 'Hylidae', 'Hylidae', 'Dendrobatidae', 'Leptodactylidae', 'Leptodactylidae', 'Leptodactylidae', 'Leptodactylidae', 'Leptodactylidae', 'Hylidae', 'Hylidae', 'Leptodactylidae', 'Dendrobatidae', 'Hylidae', 'Leptodactylidae', 'Hylidae', 'Leptodactylidae', 'Leptodactylidae', 'Hylidae', 'Hylidae', 'Leptodactylidae', 'Leptodactylidae', 'Hylidae', 'Hylidae', 'Leptodactylidae', 'Hylidae', 'Dendrobatidae', 'Leptodactylidae', 'Hylidae', 'Hylidae'] majority genus is ['Hypsiboas', 'Adenomera', 'Adenomera', 'Adenomera', 'Ameerega', 'Hypsiboas', 'Hypsiboas', 'Ameerega', 'Adenomera', 'Adenomera', 'Adenomera', 'Leptodactylus', 'Adenomera', 'Hypsiboas', 'Dendropsophus', 'Leptodactylus', 'Ameerega', 'Hypsiboas', 'Adenomera', 'Osteocephalus', 'Adenomera', 'Adenomera', 'Rhinella', 'Scinax', 'Adenomera', 'Adenomera', 'Scinax', 'Dendropsophus', 'Adenomera', 'Hypsiboas', 'Ameerega', 'Adenomera', 'Hypsiboas', 'Hypsiboas'] majority species is ['HypsiboasCordobae', 'AdenomeraHylaedactylus', 'AdenomeraAndre', 'AdenomeraHylaedactylus', 'Ameeregatrivittata', 'HypsiboasCinerascens', 'HypsiboasCordobae', 'Ameeregatrivittata', 'AdenomeraAndre', 'AdenomeraHylaedactylus', 'AdenomeraHylaedactylus', 'LeptodactylusFuscus', 'AdenomeraAndre', 'HypsiboasCordobae', 'HylaMinuta', 'LeptodactylusFuscus', 'Ameeregatrivittata', 'HypsiboasCinerascens', 'AdenomeraHylaedactylus', 'OsteocephalusOophagus', 'AdenomeraHylaedactylus', 'AdenomeraAndre', 'Rhinellagranulosa', 'ScinaxRuber', 'AdenomeraHylaedactylus', 'AdenomeraHylaedactylus', 'ScinaxRuber', 'HylaMinuta', 'AdenomeraHylaedactylus', 'HypsiboasCinerascens', 'Ameeregatrivittata', 'AdenomeraHylaedactylus', 'HypsiboasCordobae', 'HypsiboasCordobae']\n",
            "hamming loss is 0.05327773917072041 hamming score is 0.9467222608292796 hamming distance is 0.24805854942043287\n",
            "when k is 38 , the best k is 34\n",
            "majority family is ['Hylidae', 'Leptodactylidae', 'Leptodactylidae', 'Leptodactylidae', 'Dendrobatidae', 'Hylidae', 'Hylidae', 'Dendrobatidae', 'Leptodactylidae', 'Leptodactylidae', 'Leptodactylidae', 'Leptodactylidae', 'Leptodactylidae', 'Hylidae', 'Hylidae', 'Leptodactylidae', 'Dendrobatidae', 'Hylidae', 'Leptodactylidae', 'Hylidae', 'Leptodactylidae', 'Leptodactylidae', 'Hylidae', 'Hylidae', 'Leptodactylidae', 'Leptodactylidae', 'Hylidae', 'Hylidae', 'Leptodactylidae', 'Hylidae', 'Dendrobatidae', 'Leptodactylidae', 'Hylidae', 'Hylidae'] majority genus is ['Hypsiboas', 'Adenomera', 'Adenomera', 'Adenomera', 'Ameerega', 'Hypsiboas', 'Hypsiboas', 'Ameerega', 'Adenomera', 'Adenomera', 'Adenomera', 'Leptodactylus', 'Adenomera', 'Hypsiboas', 'Dendropsophus', 'Leptodactylus', 'Ameerega', 'Hypsiboas', 'Adenomera', 'Osteocephalus', 'Adenomera', 'Adenomera', 'Rhinella', 'Scinax', 'Adenomera', 'Adenomera', 'Scinax', 'Dendropsophus', 'Adenomera', 'Hypsiboas', 'Ameerega', 'Adenomera', 'Hypsiboas', 'Hypsiboas'] majority species is ['HypsiboasCordobae', 'AdenomeraHylaedactylus', 'AdenomeraAndre', 'AdenomeraHylaedactylus', 'Ameeregatrivittata', 'HypsiboasCinerascens', 'HypsiboasCordobae', 'Ameeregatrivittata', 'AdenomeraAndre', 'AdenomeraHylaedactylus', 'AdenomeraHylaedactylus', 'LeptodactylusFuscus', 'AdenomeraAndre', 'HypsiboasCordobae', 'HylaMinuta', 'LeptodactylusFuscus', 'Ameeregatrivittata', 'HypsiboasCinerascens', 'AdenomeraHylaedactylus', 'OsteocephalusOophagus', 'AdenomeraHylaedactylus', 'AdenomeraAndre', 'Rhinellagranulosa', 'ScinaxRuber', 'AdenomeraHylaedactylus', 'AdenomeraHylaedactylus', 'ScinaxRuber', 'HylaMinuta', 'AdenomeraHylaedactylus', 'HypsiboasCinerascens', 'Ameeregatrivittata', 'AdenomeraHylaedactylus', 'HypsiboasCordobae', 'HypsiboasCordobae']\n",
            "hamming loss is 0.05327773917072041 hamming score is 0.9467222608292796 hamming distance is 0.25272197003251357\n",
            "when k is 39 , the best k is 39\n",
            "majority family is ['Hylidae', 'Leptodactylidae', 'Leptodactylidae', 'Hylidae', 'Hylidae', 'Leptodactylidae', 'Leptodactylidae', 'Leptodactylidae', 'Dendrobatidae', 'Dendrobatidae', 'Hylidae', 'Leptodactylidae', 'Hylidae', 'Hylidae', 'Leptodactylidae', 'Hylidae', 'Leptodactylidae', 'Dendrobatidae', 'Leptodactylidae', 'Hylidae', 'Leptodactylidae', 'Hylidae', 'Hylidae', 'Leptodactylidae', 'Leptodactylidae', 'Dendrobatidae', 'Leptodactylidae', 'Leptodactylidae', 'Leptodactylidae', 'Leptodactylidae', 'Hylidae', 'Hylidae', 'Hylidae', 'Hylidae', 'Hylidae', 'Hylidae', 'Hylidae', 'Leptodactylidae', 'Leptodactylidae'] majority genus is ['Hypsiboas', 'Adenomera', 'Adenomera', 'Hypsiboas', 'Dendropsophus', 'Adenomera', 'Adenomera', 'Adenomera', 'Ameerega', 'Ameerega', 'Hypsiboas', 'Leptodactylus', 'Hypsiboas', 'Hypsiboas', 'Leptodactylus', 'Hypsiboas', 'Adenomera', 'Ameerega', 'Adenomera', 'Hypsiboas', 'Adenomera', 'Dendropsophus', 'Scinax', 'Adenomera', 'Adenomera', 'Ameerega', 'Adenomera', 'Adenomera', 'Adenomera', 'Adenomera', 'Dendropsophus', 'Osteocephalus', 'Scinax', 'Hypsiboas', 'Scinax', 'Hypsiboas', 'Dendropsophus', 'Adenomera', 'Leptodactylus'] majority species is ['HypsiboasCinerascens', 'AdenomeraHylaedactylus', 'AdenomeraAndre', 'HypsiboasCordobae', 'HylaMinuta', 'AdenomeraHylaedactylus', 'AdenomeraHylaedactylus', 'AdenomeraHylaedactylus', 'Ameeregatrivittata', 'Ameeregatrivittata', 'HypsiboasCordobae', 'LeptodactylusFuscus', 'HypsiboasCordobae', 'HypsiboasCordobae', 'LeptodactylusFuscus', 'HypsiboasCinerascens', 'AdenomeraHylaedactylus', 'Ameeregatrivittata', 'AdenomeraHylaedactylus', 'HypsiboasCordobae', 'AdenomeraHylaedactylus', 'HylaMinuta', 'ScinaxRuber', 'AdenomeraAndre', 'AdenomeraAndre', 'Ameeregatrivittata', 'AdenomeraHylaedactylus', 'AdenomeraHylaedactylus', 'AdenomeraAndre', 'AdenomeraHylaedactylus', 'HylaMinuta', 'OsteocephalusOophagus', 'ScinaxRuber', 'HypsiboasCinerascens', 'ScinaxRuber', 'HypsiboasCinerascens', 'HylaMinuta', 'AdenomeraHylaedactylus', 'LeptodactylusFuscus']\n",
            "hamming loss is 0.052582812138058835 hamming score is 0.9474171878619412 hamming distance is 0.23860205153932748\n",
            "when k is 40 , the best k is 40\n",
            "majority family is ['Leptodactylidae', 'Leptodactylidae', 'Hylidae', 'Leptodactylidae', 'Dendrobatidae', 'Hylidae', 'Leptodactylidae', 'Hylidae', 'Dendrobatidae', 'Dendrobatidae', 'Leptodactylidae', 'Hylidae', 'Leptodactylidae', 'Leptodactylidae', 'Leptodactylidae', 'Hylidae', 'Hylidae', 'Hylidae', 'Leptodactylidae', 'Bufonidae', 'Dendrobatidae', 'Leptodactylidae', 'Hylidae', 'Hylidae', 'Leptodactylidae', 'Leptodactylidae', 'Leptodactylidae', 'Hylidae', 'Hylidae', 'Hylidae', 'Hylidae', 'Leptodactylidae', 'Leptodactylidae', 'Hylidae', 'Hylidae', 'Leptodactylidae', 'Hylidae', 'Dendrobatidae', 'Leptodactylidae', 'Leptodactylidae'] majority genus is ['Adenomera', 'Leptodactylus', 'Hypsiboas', 'Adenomera', 'Ameerega', 'Scinax', 'Adenomera', 'Hypsiboas', 'Ameerega', 'Ameerega', 'Adenomera', 'Hypsiboas', 'Adenomera', 'Adenomera', 'Adenomera', 'Hypsiboas', 'Hypsiboas', 'Hypsiboas', 'Adenomera', 'Rhinella', 'Ameerega', 'Adenomera', 'Scinax', 'Osteocephalus', 'Adenomera', 'Adenomera', 'Adenomera', 'Hypsiboas', 'Hypsiboas', 'Dendropsophus', 'Hypsiboas', 'Adenomera', 'Adenomera', 'Dendropsophus', 'Scinax', 'Leptodactylus', 'Hypsiboas', 'Ameerega', 'Adenomera', 'Adenomera'] majority species is ['AdenomeraHylaedactylus', 'LeptodactylusFuscus', 'HypsiboasCinerascens', 'AdenomeraHylaedactylus', 'Ameeregatrivittata', 'ScinaxRuber', 'AdenomeraAndre', 'HypsiboasCordobae', 'Ameeregatrivittata', 'Ameeregatrivittata', 'AdenomeraAndre', 'HypsiboasCordobae', 'AdenomeraAndre', 'AdenomeraHylaedactylus', 'AdenomeraHylaedactylus', 'HypsiboasCordobae', 'HypsiboasCinerascens', 'HypsiboasCordobae', 'AdenomeraHylaedactylus', 'Rhinellagranulosa', 'Ameeregatrivittata', 'AdenomeraHylaedactylus', 'ScinaxRuber', 'OsteocephalusOophagus', 'AdenomeraHylaedactylus', 'AdenomeraAndre', 'AdenomeraHylaedactylus', 'HypsiboasCordobae', 'HypsiboasCinerascens', 'HylaMinuta', 'HypsiboasCordobae', 'AdenomeraAndre', 'AdenomeraHylaedactylus', 'HylaMinuta', 'ScinaxRuber', 'LeptodactylusFuscus', 'HypsiboasCinerascens', 'Ameeregatrivittata', 'AdenomeraHylaedactylus', 'AdenomeraHylaedactylus']\n",
            "hamming loss is 0.051702571230020845 hamming score is 0.9482974287699791 hamming distance is 0.22990033602255963\n",
            "when k is 41 , the best k is 40\n",
            "majority family is ['Leptodactylidae', 'Leptodactylidae', 'Hylidae', 'Leptodactylidae', 'Dendrobatidae', 'Hylidae', 'Leptodactylidae', 'Hylidae', 'Dendrobatidae', 'Dendrobatidae', 'Leptodactylidae', 'Hylidae', 'Leptodactylidae', 'Leptodactylidae', 'Leptodactylidae', 'Hylidae', 'Hylidae', 'Hylidae', 'Leptodactylidae', 'Bufonidae', 'Dendrobatidae', 'Leptodactylidae', 'Hylidae', 'Hylidae', 'Leptodactylidae', 'Leptodactylidae', 'Leptodactylidae', 'Hylidae', 'Hylidae', 'Hylidae', 'Hylidae', 'Leptodactylidae', 'Leptodactylidae', 'Hylidae', 'Hylidae', 'Leptodactylidae', 'Hylidae', 'Dendrobatidae', 'Leptodactylidae', 'Leptodactylidae'] majority genus is ['Adenomera', 'Leptodactylus', 'Hypsiboas', 'Adenomera', 'Ameerega', 'Scinax', 'Adenomera', 'Hypsiboas', 'Ameerega', 'Ameerega', 'Adenomera', 'Hypsiboas', 'Adenomera', 'Adenomera', 'Adenomera', 'Hypsiboas', 'Hypsiboas', 'Hypsiboas', 'Adenomera', 'Rhinella', 'Ameerega', 'Adenomera', 'Scinax', 'Osteocephalus', 'Adenomera', 'Adenomera', 'Adenomera', 'Hypsiboas', 'Hypsiboas', 'Dendropsophus', 'Hypsiboas', 'Adenomera', 'Adenomera', 'Dendropsophus', 'Scinax', 'Leptodactylus', 'Hypsiboas', 'Ameerega', 'Adenomera', 'Adenomera'] majority species is ['AdenomeraHylaedactylus', 'LeptodactylusFuscus', 'HypsiboasCinerascens', 'AdenomeraHylaedactylus', 'Ameeregatrivittata', 'ScinaxRuber', 'AdenomeraAndre', 'HypsiboasCordobae', 'Ameeregatrivittata', 'Ameeregatrivittata', 'AdenomeraAndre', 'HypsiboasCordobae', 'AdenomeraAndre', 'AdenomeraHylaedactylus', 'AdenomeraHylaedactylus', 'HypsiboasCordobae', 'HypsiboasCinerascens', 'HypsiboasCordobae', 'AdenomeraHylaedactylus', 'Rhinellagranulosa', 'Ameeregatrivittata', 'AdenomeraHylaedactylus', 'ScinaxRuber', 'OsteocephalusOophagus', 'AdenomeraHylaedactylus', 'AdenomeraAndre', 'AdenomeraHylaedactylus', 'HypsiboasCordobae', 'HypsiboasCinerascens', 'HylaMinuta', 'HypsiboasCordobae', 'AdenomeraAndre', 'AdenomeraHylaedactylus', 'HylaMinuta', 'ScinaxRuber', 'LeptodactylusFuscus', 'HypsiboasCinerascens', 'Ameeregatrivittata', 'AdenomeraHylaedactylus', 'AdenomeraHylaedactylus']\n",
            "hamming loss is 0.051702571230020845 hamming score is 0.9482974287699791 hamming distance is 0.2638143709216682\n",
            "when k is 42 , the best k is 40\n",
            "majority family is ['Leptodactylidae', 'Leptodactylidae', 'Hylidae', 'Leptodactylidae', 'Dendrobatidae', 'Hylidae', 'Leptodactylidae', 'Hylidae', 'Dendrobatidae', 'Dendrobatidae', 'Leptodactylidae', 'Hylidae', 'Leptodactylidae', 'Leptodactylidae', 'Leptodactylidae', 'Hylidae', 'Hylidae', 'Hylidae', 'Leptodactylidae', 'Bufonidae', 'Dendrobatidae', 'Leptodactylidae', 'Hylidae', 'Hylidae', 'Leptodactylidae', 'Leptodactylidae', 'Leptodactylidae', 'Hylidae', 'Hylidae', 'Hylidae', 'Hylidae', 'Leptodactylidae', 'Leptodactylidae', 'Hylidae', 'Hylidae', 'Leptodactylidae', 'Hylidae', 'Dendrobatidae', 'Leptodactylidae', 'Leptodactylidae'] majority genus is ['Adenomera', 'Leptodactylus', 'Hypsiboas', 'Adenomera', 'Ameerega', 'Scinax', 'Adenomera', 'Hypsiboas', 'Ameerega', 'Ameerega', 'Adenomera', 'Hypsiboas', 'Adenomera', 'Adenomera', 'Adenomera', 'Hypsiboas', 'Hypsiboas', 'Hypsiboas', 'Adenomera', 'Rhinella', 'Ameerega', 'Adenomera', 'Scinax', 'Osteocephalus', 'Adenomera', 'Adenomera', 'Adenomera', 'Hypsiboas', 'Hypsiboas', 'Dendropsophus', 'Hypsiboas', 'Adenomera', 'Adenomera', 'Dendropsophus', 'Scinax', 'Leptodactylus', 'Hypsiboas', 'Ameerega', 'Adenomera', 'Adenomera'] majority species is ['AdenomeraHylaedactylus', 'LeptodactylusFuscus', 'HypsiboasCinerascens', 'AdenomeraHylaedactylus', 'Ameeregatrivittata', 'ScinaxRuber', 'AdenomeraAndre', 'HypsiboasCordobae', 'Ameeregatrivittata', 'Ameeregatrivittata', 'AdenomeraAndre', 'HypsiboasCordobae', 'AdenomeraAndre', 'AdenomeraHylaedactylus', 'AdenomeraHylaedactylus', 'HypsiboasCordobae', 'HypsiboasCinerascens', 'HypsiboasCordobae', 'AdenomeraHylaedactylus', 'Rhinellagranulosa', 'Ameeregatrivittata', 'AdenomeraHylaedactylus', 'ScinaxRuber', 'OsteocephalusOophagus', 'AdenomeraHylaedactylus', 'AdenomeraAndre', 'AdenomeraHylaedactylus', 'HypsiboasCordobae', 'HypsiboasCinerascens', 'HylaMinuta', 'HypsiboasCordobae', 'AdenomeraAndre', 'AdenomeraHylaedactylus', 'HylaMinuta', 'ScinaxRuber', 'LeptodactylusFuscus', 'HypsiboasCinerascens', 'Ameeregatrivittata', 'AdenomeraHylaedactylus', 'AdenomeraHylaedactylus']\n",
            "hamming loss is 0.051702571230020845 hamming score is 0.9482974287699791 hamming distance is 0.23304170946521763\n",
            "when k is 43 , the best k is 40\n",
            "majority family is ['Leptodactylidae', 'Leptodactylidae', 'Hylidae', 'Leptodactylidae', 'Dendrobatidae', 'Hylidae', 'Leptodactylidae', 'Hylidae', 'Dendrobatidae', 'Dendrobatidae', 'Leptodactylidae', 'Hylidae', 'Leptodactylidae', 'Leptodactylidae', 'Leptodactylidae', 'Hylidae', 'Hylidae', 'Hylidae', 'Leptodactylidae', 'Bufonidae', 'Dendrobatidae', 'Leptodactylidae', 'Hylidae', 'Hylidae', 'Leptodactylidae', 'Leptodactylidae', 'Leptodactylidae', 'Hylidae', 'Hylidae', 'Hylidae', 'Hylidae', 'Leptodactylidae', 'Leptodactylidae', 'Hylidae', 'Hylidae', 'Leptodactylidae', 'Hylidae', 'Dendrobatidae', 'Leptodactylidae', 'Leptodactylidae'] majority genus is ['Adenomera', 'Leptodactylus', 'Hypsiboas', 'Adenomera', 'Ameerega', 'Scinax', 'Adenomera', 'Hypsiboas', 'Ameerega', 'Ameerega', 'Adenomera', 'Hypsiboas', 'Adenomera', 'Adenomera', 'Adenomera', 'Hypsiboas', 'Hypsiboas', 'Hypsiboas', 'Adenomera', 'Rhinella', 'Ameerega', 'Adenomera', 'Scinax', 'Osteocephalus', 'Adenomera', 'Adenomera', 'Adenomera', 'Hypsiboas', 'Hypsiboas', 'Dendropsophus', 'Hypsiboas', 'Adenomera', 'Adenomera', 'Dendropsophus', 'Scinax', 'Leptodactylus', 'Hypsiboas', 'Ameerega', 'Adenomera', 'Adenomera'] majority species is ['AdenomeraHylaedactylus', 'LeptodactylusFuscus', 'HypsiboasCinerascens', 'AdenomeraHylaedactylus', 'Ameeregatrivittata', 'ScinaxRuber', 'AdenomeraAndre', 'HypsiboasCordobae', 'Ameeregatrivittata', 'Ameeregatrivittata', 'AdenomeraAndre', 'HypsiboasCordobae', 'AdenomeraAndre', 'AdenomeraHylaedactylus', 'AdenomeraHylaedactylus', 'HypsiboasCordobae', 'HypsiboasCinerascens', 'HypsiboasCordobae', 'AdenomeraHylaedactylus', 'Rhinellagranulosa', 'Ameeregatrivittata', 'AdenomeraHylaedactylus', 'ScinaxRuber', 'OsteocephalusOophagus', 'AdenomeraHylaedactylus', 'AdenomeraAndre', 'AdenomeraHylaedactylus', 'HypsiboasCordobae', 'HypsiboasCinerascens', 'HylaMinuta', 'HypsiboasCordobae', 'AdenomeraAndre', 'AdenomeraHylaedactylus', 'HylaMinuta', 'ScinaxRuber', 'LeptodactylusFuscus', 'HypsiboasCinerascens', 'Ameeregatrivittata', 'AdenomeraHylaedactylus', 'AdenomeraHylaedactylus']\n",
            "hamming loss is 0.051702571230020845 hamming score is 0.9482974287699791 hamming distance is 0.23447393554974963\n",
            "when k is 44 , the best k is 40\n",
            "majority family is ['Leptodactylidae', 'Leptodactylidae', 'Hylidae', 'Leptodactylidae', 'Dendrobatidae', 'Hylidae', 'Leptodactylidae', 'Hylidae', 'Dendrobatidae', 'Dendrobatidae', 'Leptodactylidae', 'Hylidae', 'Leptodactylidae', 'Leptodactylidae', 'Leptodactylidae', 'Hylidae', 'Hylidae', 'Hylidae', 'Leptodactylidae', 'Bufonidae', 'Dendrobatidae', 'Leptodactylidae', 'Hylidae', 'Hylidae', 'Leptodactylidae', 'Leptodactylidae', 'Leptodactylidae', 'Hylidae', 'Hylidae', 'Hylidae', 'Hylidae', 'Leptodactylidae', 'Leptodactylidae', 'Hylidae', 'Hylidae', 'Leptodactylidae', 'Hylidae', 'Dendrobatidae', 'Leptodactylidae', 'Leptodactylidae'] majority genus is ['Adenomera', 'Leptodactylus', 'Hypsiboas', 'Adenomera', 'Ameerega', 'Scinax', 'Adenomera', 'Hypsiboas', 'Ameerega', 'Ameerega', 'Adenomera', 'Hypsiboas', 'Adenomera', 'Adenomera', 'Adenomera', 'Hypsiboas', 'Hypsiboas', 'Hypsiboas', 'Adenomera', 'Rhinella', 'Ameerega', 'Adenomera', 'Scinax', 'Osteocephalus', 'Adenomera', 'Adenomera', 'Adenomera', 'Hypsiboas', 'Hypsiboas', 'Dendropsophus', 'Hypsiboas', 'Adenomera', 'Adenomera', 'Dendropsophus', 'Scinax', 'Leptodactylus', 'Hypsiboas', 'Ameerega', 'Adenomera', 'Adenomera'] majority species is ['AdenomeraHylaedactylus', 'LeptodactylusFuscus', 'HypsiboasCinerascens', 'AdenomeraHylaedactylus', 'Ameeregatrivittata', 'ScinaxRuber', 'AdenomeraAndre', 'HypsiboasCordobae', 'Ameeregatrivittata', 'Ameeregatrivittata', 'AdenomeraAndre', 'HypsiboasCordobae', 'AdenomeraAndre', 'AdenomeraHylaedactylus', 'AdenomeraHylaedactylus', 'HypsiboasCordobae', 'HypsiboasCinerascens', 'HypsiboasCordobae', 'AdenomeraHylaedactylus', 'Rhinellagranulosa', 'Ameeregatrivittata', 'AdenomeraHylaedactylus', 'ScinaxRuber', 'OsteocephalusOophagus', 'AdenomeraHylaedactylus', 'AdenomeraAndre', 'AdenomeraHylaedactylus', 'HypsiboasCordobae', 'HypsiboasCinerascens', 'HylaMinuta', 'HypsiboasCordobae', 'AdenomeraAndre', 'AdenomeraHylaedactylus', 'HylaMinuta', 'ScinaxRuber', 'LeptodactylusFuscus', 'HypsiboasCinerascens', 'Ameeregatrivittata', 'AdenomeraHylaedactylus', 'AdenomeraHylaedactylus']\n",
            "hamming loss is 0.051702571230020845 hamming score is 0.9482974287699791 hamming distance is 0.23439632248504205\n",
            "when k is 45 , the best k is 40\n",
            "majority family is ['Leptodactylidae', 'Leptodactylidae', 'Hylidae', 'Leptodactylidae', 'Dendrobatidae', 'Hylidae', 'Leptodactylidae', 'Hylidae', 'Dendrobatidae', 'Dendrobatidae', 'Leptodactylidae', 'Hylidae', 'Leptodactylidae', 'Leptodactylidae', 'Leptodactylidae', 'Hylidae', 'Hylidae', 'Hylidae', 'Leptodactylidae', 'Bufonidae', 'Dendrobatidae', 'Leptodactylidae', 'Hylidae', 'Hylidae', 'Leptodactylidae', 'Leptodactylidae', 'Leptodactylidae', 'Hylidae', 'Hylidae', 'Hylidae', 'Hylidae', 'Leptodactylidae', 'Leptodactylidae', 'Hylidae', 'Hylidae', 'Leptodactylidae', 'Hylidae', 'Dendrobatidae', 'Leptodactylidae', 'Leptodactylidae'] majority genus is ['Adenomera', 'Leptodactylus', 'Hypsiboas', 'Adenomera', 'Ameerega', 'Scinax', 'Adenomera', 'Hypsiboas', 'Ameerega', 'Ameerega', 'Adenomera', 'Hypsiboas', 'Adenomera', 'Adenomera', 'Adenomera', 'Hypsiboas', 'Hypsiboas', 'Hypsiboas', 'Adenomera', 'Rhinella', 'Ameerega', 'Adenomera', 'Scinax', 'Osteocephalus', 'Adenomera', 'Adenomera', 'Adenomera', 'Hypsiboas', 'Hypsiboas', 'Dendropsophus', 'Hypsiboas', 'Adenomera', 'Adenomera', 'Dendropsophus', 'Scinax', 'Leptodactylus', 'Hypsiboas', 'Ameerega', 'Adenomera', 'Adenomera'] majority species is ['AdenomeraHylaedactylus', 'LeptodactylusFuscus', 'HypsiboasCinerascens', 'AdenomeraHylaedactylus', 'Ameeregatrivittata', 'ScinaxRuber', 'AdenomeraAndre', 'HypsiboasCordobae', 'Ameeregatrivittata', 'Ameeregatrivittata', 'AdenomeraAndre', 'HypsiboasCordobae', 'AdenomeraAndre', 'AdenomeraHylaedactylus', 'AdenomeraHylaedactylus', 'HypsiboasCordobae', 'HypsiboasCinerascens', 'HypsiboasCordobae', 'AdenomeraHylaedactylus', 'Rhinellagranulosa', 'Ameeregatrivittata', 'AdenomeraHylaedactylus', 'ScinaxRuber', 'OsteocephalusOophagus', 'AdenomeraHylaedactylus', 'AdenomeraAndre', 'AdenomeraHylaedactylus', 'HypsiboasCordobae', 'HypsiboasCinerascens', 'HylaMinuta', 'HypsiboasCordobae', 'AdenomeraAndre', 'AdenomeraHylaedactylus', 'HylaMinuta', 'ScinaxRuber', 'LeptodactylusFuscus', 'HypsiboasCinerascens', 'Ameeregatrivittata', 'AdenomeraHylaedactylus', 'AdenomeraHylaedactylus']\n",
            "hamming loss is 0.051702571230020845 hamming score is 0.9482974287699791 hamming distance is 0.23004123181023392\n",
            "when k is 46 , the best k is 40\n",
            "majority family is ['Leptodactylidae', 'Leptodactylidae', 'Hylidae', 'Leptodactylidae', 'Dendrobatidae', 'Hylidae', 'Leptodactylidae', 'Hylidae', 'Dendrobatidae', 'Dendrobatidae', 'Leptodactylidae', 'Hylidae', 'Leptodactylidae', 'Leptodactylidae', 'Leptodactylidae', 'Hylidae', 'Hylidae', 'Hylidae', 'Leptodactylidae', 'Bufonidae', 'Dendrobatidae', 'Leptodactylidae', 'Hylidae', 'Hylidae', 'Leptodactylidae', 'Leptodactylidae', 'Leptodactylidae', 'Hylidae', 'Hylidae', 'Hylidae', 'Hylidae', 'Leptodactylidae', 'Leptodactylidae', 'Hylidae', 'Hylidae', 'Leptodactylidae', 'Hylidae', 'Dendrobatidae', 'Leptodactylidae', 'Leptodactylidae'] majority genus is ['Adenomera', 'Leptodactylus', 'Hypsiboas', 'Adenomera', 'Ameerega', 'Scinax', 'Adenomera', 'Hypsiboas', 'Ameerega', 'Ameerega', 'Adenomera', 'Hypsiboas', 'Adenomera', 'Adenomera', 'Adenomera', 'Hypsiboas', 'Hypsiboas', 'Hypsiboas', 'Adenomera', 'Rhinella', 'Ameerega', 'Adenomera', 'Scinax', 'Osteocephalus', 'Adenomera', 'Adenomera', 'Adenomera', 'Hypsiboas', 'Hypsiboas', 'Dendropsophus', 'Hypsiboas', 'Adenomera', 'Adenomera', 'Dendropsophus', 'Scinax', 'Leptodactylus', 'Hypsiboas', 'Ameerega', 'Adenomera', 'Adenomera'] majority species is ['AdenomeraHylaedactylus', 'LeptodactylusFuscus', 'HypsiboasCinerascens', 'AdenomeraHylaedactylus', 'Ameeregatrivittata', 'ScinaxRuber', 'AdenomeraAndre', 'HypsiboasCordobae', 'Ameeregatrivittata', 'Ameeregatrivittata', 'AdenomeraAndre', 'HypsiboasCordobae', 'AdenomeraAndre', 'AdenomeraHylaedactylus', 'AdenomeraHylaedactylus', 'HypsiboasCordobae', 'HypsiboasCinerascens', 'HypsiboasCordobae', 'AdenomeraHylaedactylus', 'Rhinellagranulosa', 'Ameeregatrivittata', 'AdenomeraHylaedactylus', 'ScinaxRuber', 'OsteocephalusOophagus', 'AdenomeraHylaedactylus', 'AdenomeraAndre', 'AdenomeraHylaedactylus', 'HypsiboasCordobae', 'HypsiboasCinerascens', 'HylaMinuta', 'HypsiboasCordobae', 'AdenomeraAndre', 'AdenomeraHylaedactylus', 'HylaMinuta', 'ScinaxRuber', 'LeptodactylusFuscus', 'HypsiboasCinerascens', 'Ameeregatrivittata', 'AdenomeraHylaedactylus', 'AdenomeraHylaedactylus']\n",
            "hamming loss is 0.051702571230020845 hamming score is 0.9482974287699791 hamming distance is 0.23919987250542513\n",
            "when k is 47 , the best k is 40\n",
            "majority family is ['Leptodactylidae', 'Leptodactylidae', 'Hylidae', 'Leptodactylidae', 'Dendrobatidae', 'Hylidae', 'Leptodactylidae', 'Hylidae', 'Dendrobatidae', 'Dendrobatidae', 'Leptodactylidae', 'Hylidae', 'Leptodactylidae', 'Leptodactylidae', 'Leptodactylidae', 'Hylidae', 'Hylidae', 'Hylidae', 'Leptodactylidae', 'Bufonidae', 'Dendrobatidae', 'Leptodactylidae', 'Hylidae', 'Hylidae', 'Leptodactylidae', 'Leptodactylidae', 'Leptodactylidae', 'Hylidae', 'Hylidae', 'Hylidae', 'Hylidae', 'Leptodactylidae', 'Leptodactylidae', 'Hylidae', 'Hylidae', 'Leptodactylidae', 'Hylidae', 'Dendrobatidae', 'Leptodactylidae', 'Leptodactylidae'] majority genus is ['Adenomera', 'Leptodactylus', 'Hypsiboas', 'Adenomera', 'Ameerega', 'Scinax', 'Adenomera', 'Hypsiboas', 'Ameerega', 'Ameerega', 'Adenomera', 'Hypsiboas', 'Adenomera', 'Adenomera', 'Adenomera', 'Hypsiboas', 'Hypsiboas', 'Hypsiboas', 'Adenomera', 'Rhinella', 'Ameerega', 'Adenomera', 'Scinax', 'Osteocephalus', 'Adenomera', 'Adenomera', 'Adenomera', 'Hypsiboas', 'Hypsiboas', 'Dendropsophus', 'Hypsiboas', 'Adenomera', 'Adenomera', 'Dendropsophus', 'Scinax', 'Leptodactylus', 'Hypsiboas', 'Ameerega', 'Adenomera', 'Adenomera'] majority species is ['AdenomeraHylaedactylus', 'LeptodactylusFuscus', 'HypsiboasCinerascens', 'AdenomeraHylaedactylus', 'Ameeregatrivittata', 'ScinaxRuber', 'AdenomeraAndre', 'HypsiboasCordobae', 'Ameeregatrivittata', 'Ameeregatrivittata', 'AdenomeraAndre', 'HypsiboasCordobae', 'AdenomeraAndre', 'AdenomeraHylaedactylus', 'AdenomeraHylaedactylus', 'HypsiboasCordobae', 'HypsiboasCinerascens', 'HypsiboasCordobae', 'AdenomeraHylaedactylus', 'Rhinellagranulosa', 'Ameeregatrivittata', 'AdenomeraHylaedactylus', 'ScinaxRuber', 'OsteocephalusOophagus', 'AdenomeraHylaedactylus', 'AdenomeraAndre', 'AdenomeraHylaedactylus', 'HypsiboasCordobae', 'HypsiboasCinerascens', 'HylaMinuta', 'HypsiboasCordobae', 'AdenomeraAndre', 'AdenomeraHylaedactylus', 'HylaMinuta', 'ScinaxRuber', 'LeptodactylusFuscus', 'HypsiboasCinerascens', 'Ameeregatrivittata', 'AdenomeraHylaedactylus', 'AdenomeraHylaedactylus']\n",
            "hamming loss is 0.051702571230020845 hamming score is 0.9482974287699791 hamming distance is 0.23691906597983017\n",
            "when k is 48 , the best k is 40\n",
            "majority family is ['Leptodactylidae', 'Leptodactylidae', 'Hylidae', 'Leptodactylidae', 'Dendrobatidae', 'Hylidae', 'Leptodactylidae', 'Hylidae', 'Dendrobatidae', 'Dendrobatidae', 'Leptodactylidae', 'Hylidae', 'Leptodactylidae', 'Leptodactylidae', 'Leptodactylidae', 'Hylidae', 'Hylidae', 'Hylidae', 'Leptodactylidae', 'Bufonidae', 'Dendrobatidae', 'Leptodactylidae', 'Hylidae', 'Hylidae', 'Leptodactylidae', 'Leptodactylidae', 'Leptodactylidae', 'Hylidae', 'Hylidae', 'Hylidae', 'Hylidae', 'Leptodactylidae', 'Leptodactylidae', 'Hylidae', 'Hylidae', 'Leptodactylidae', 'Hylidae', 'Dendrobatidae', 'Leptodactylidae', 'Leptodactylidae'] majority genus is ['Adenomera', 'Leptodactylus', 'Hypsiboas', 'Adenomera', 'Ameerega', 'Scinax', 'Adenomera', 'Hypsiboas', 'Ameerega', 'Ameerega', 'Adenomera', 'Hypsiboas', 'Adenomera', 'Adenomera', 'Adenomera', 'Hypsiboas', 'Hypsiboas', 'Hypsiboas', 'Adenomera', 'Rhinella', 'Ameerega', 'Adenomera', 'Scinax', 'Osteocephalus', 'Adenomera', 'Adenomera', 'Adenomera', 'Hypsiboas', 'Hypsiboas', 'Dendropsophus', 'Hypsiboas', 'Adenomera', 'Adenomera', 'Dendropsophus', 'Scinax', 'Leptodactylus', 'Hypsiboas', 'Ameerega', 'Adenomera', 'Adenomera'] majority species is ['AdenomeraHylaedactylus', 'LeptodactylusFuscus', 'HypsiboasCinerascens', 'AdenomeraHylaedactylus', 'Ameeregatrivittata', 'ScinaxRuber', 'AdenomeraAndre', 'HypsiboasCordobae', 'Ameeregatrivittata', 'Ameeregatrivittata', 'AdenomeraAndre', 'HypsiboasCordobae', 'AdenomeraAndre', 'AdenomeraHylaedactylus', 'AdenomeraHylaedactylus', 'HypsiboasCordobae', 'HypsiboasCinerascens', 'HypsiboasCordobae', 'AdenomeraHylaedactylus', 'Rhinellagranulosa', 'Ameeregatrivittata', 'AdenomeraHylaedactylus', 'ScinaxRuber', 'OsteocephalusOophagus', 'AdenomeraHylaedactylus', 'AdenomeraAndre', 'AdenomeraHylaedactylus', 'HypsiboasCordobae', 'HypsiboasCinerascens', 'HylaMinuta', 'HypsiboasCordobae', 'AdenomeraAndre', 'AdenomeraHylaedactylus', 'HylaMinuta', 'ScinaxRuber', 'LeptodactylusFuscus', 'HypsiboasCinerascens', 'Ameeregatrivittata', 'AdenomeraHylaedactylus', 'AdenomeraHylaedactylus']\n",
            "hamming loss is 0.051702571230020845 hamming score is 0.9482974287699791 hamming distance is 0.2536983311334128\n",
            "when k is 49 , the best k is 40\n",
            "majority family is ['Leptodactylidae', 'Leptodactylidae', 'Hylidae', 'Leptodactylidae', 'Dendrobatidae', 'Hylidae', 'Leptodactylidae', 'Hylidae', 'Dendrobatidae', 'Dendrobatidae', 'Leptodactylidae', 'Hylidae', 'Leptodactylidae', 'Leptodactylidae', 'Leptodactylidae', 'Hylidae', 'Hylidae', 'Hylidae', 'Leptodactylidae', 'Bufonidae', 'Dendrobatidae', 'Leptodactylidae', 'Hylidae', 'Hylidae', 'Leptodactylidae', 'Leptodactylidae', 'Leptodactylidae', 'Hylidae', 'Hylidae', 'Hylidae', 'Hylidae', 'Leptodactylidae', 'Leptodactylidae', 'Hylidae', 'Hylidae', 'Leptodactylidae', 'Hylidae', 'Dendrobatidae', 'Leptodactylidae', 'Leptodactylidae'] majority genus is ['Adenomera', 'Leptodactylus', 'Hypsiboas', 'Adenomera', 'Ameerega', 'Scinax', 'Adenomera', 'Hypsiboas', 'Ameerega', 'Ameerega', 'Adenomera', 'Hypsiboas', 'Adenomera', 'Adenomera', 'Adenomera', 'Hypsiboas', 'Hypsiboas', 'Hypsiboas', 'Adenomera', 'Rhinella', 'Ameerega', 'Adenomera', 'Scinax', 'Osteocephalus', 'Adenomera', 'Adenomera', 'Adenomera', 'Hypsiboas', 'Hypsiboas', 'Dendropsophus', 'Hypsiboas', 'Adenomera', 'Adenomera', 'Dendropsophus', 'Scinax', 'Leptodactylus', 'Hypsiboas', 'Ameerega', 'Adenomera', 'Adenomera'] majority species is ['AdenomeraHylaedactylus', 'LeptodactylusFuscus', 'HypsiboasCinerascens', 'AdenomeraHylaedactylus', 'Ameeregatrivittata', 'ScinaxRuber', 'AdenomeraAndre', 'HypsiboasCordobae', 'Ameeregatrivittata', 'Ameeregatrivittata', 'AdenomeraAndre', 'HypsiboasCordobae', 'AdenomeraAndre', 'AdenomeraHylaedactylus', 'AdenomeraHylaedactylus', 'HypsiboasCordobae', 'HypsiboasCinerascens', 'HypsiboasCordobae', 'AdenomeraHylaedactylus', 'Rhinellagranulosa', 'Ameeregatrivittata', 'AdenomeraHylaedactylus', 'ScinaxRuber', 'OsteocephalusOophagus', 'AdenomeraHylaedactylus', 'AdenomeraAndre', 'AdenomeraHylaedactylus', 'HypsiboasCordobae', 'HypsiboasCinerascens', 'HylaMinuta', 'HypsiboasCordobae', 'AdenomeraAndre', 'AdenomeraHylaedactylus', 'HylaMinuta', 'ScinaxRuber', 'LeptodactylusFuscus', 'HypsiboasCinerascens', 'Ameeregatrivittata', 'AdenomeraHylaedactylus', 'AdenomeraHylaedactylus']\n",
            "hamming loss is 0.051702571230020845 hamming score is 0.9482974287699791 hamming distance is 0.23916933738010965\n",
            "when k is 50 , the best k is 50\n",
            "majority family is ['Hylidae', 'Leptodactylidae', 'Leptodactylidae', 'Hylidae', 'Hylidae', 'Leptodactylidae', 'Dendrobatidae', 'Hylidae', 'Leptodactylidae', 'Bufonidae', 'Leptodactylidae', 'Leptodactylidae', 'Leptodactylidae', 'Dendrobatidae', 'Leptodactylidae', 'Leptodactylidae', 'Hylidae', 'Hylidae', 'Hylidae', 'Dendrobatidae', 'Hylidae', 'Leptodactylidae', 'Dendrobatidae', 'Hylidae', 'Hylidae', 'Leptodactylidae', 'Hylidae', 'Leptodactylidae', 'Leptodactylidae', 'Hylidae', 'Leptodactylidae', 'Leptodactylidae', 'Leptodactylidae', 'Leptodactylidae', 'Leptodactylidae', 'Hylidae', 'Dendrobatidae', 'Hylidae', 'Hylidae', 'Hylidae', 'Hylidae', 'Leptodactylidae', 'Leptodactylidae', 'Hylidae', 'Dendrobatidae', 'Hylidae', 'Leptodactylidae', 'Leptodactylidae', 'Leptodactylidae', 'Hylidae'] majority genus is ['Hypsiboas', 'Adenomera', 'Adenomera', 'Hypsiboas', 'Osteocephalus', 'Adenomera', 'Ameerega', 'Hypsiboas', 'Adenomera', 'Rhinella', 'Adenomera', 'Adenomera', 'Leptodactylus', 'Ameerega', 'Adenomera', 'Adenomera', 'Scinax', 'Hypsiboas', 'Hypsiboas', 'Ameerega', 'Hypsiboas', 'Adenomera', 'Ameerega', 'Hypsiboas', 'Scinax', 'Leptodactylus', 'Scinax', 'Adenomera', 'Adenomera', 'Hypsiboas', 'Adenomera', 'Adenomera', 'Adenomera', 'Adenomera', 'Adenomera', 'Hypsiboas', 'Ameerega', 'Dendropsophus', 'Hypsiboas', 'Dendropsophus', 'Hypsiboas', 'Leptodactylus', 'Adenomera', 'Hypsiboas', 'Ameerega', 'Hypsiboas', 'Adenomera', 'Adenomera', 'Adenomera', 'Dendropsophus'] majority species is ['HypsiboasCordobae', 'AdenomeraHylaedactylus', 'AdenomeraAndre', 'HypsiboasCinerascens', 'OsteocephalusOophagus', 'AdenomeraAndre', 'Ameeregatrivittata', 'HypsiboasCinerascens', 'AdenomeraHylaedactylus', 'Rhinellagranulosa', 'AdenomeraAndre', 'AdenomeraHylaedactylus', 'LeptodactylusFuscus', 'Ameeregatrivittata', 'AdenomeraAndre', 'AdenomeraHylaedactylus', 'ScinaxRuber', 'HypsiboasCordobae', 'HypsiboasCinerascens', 'Ameeregatrivittata', 'HypsiboasCordobae', 'AdenomeraHylaedactylus', 'Ameeregatrivittata', 'HypsiboasCordobae', 'ScinaxRuber', 'LeptodactylusFuscus', 'ScinaxRuber', 'AdenomeraHylaedactylus', 'AdenomeraHylaedactylus', 'HypsiboasCordobae', 'AdenomeraHylaedactylus', 'AdenomeraHylaedactylus', 'AdenomeraHylaedactylus', 'AdenomeraHylaedactylus', 'AdenomeraHylaedactylus', 'HypsiboasCinerascens', 'Ameeregatrivittata', 'HylaMinuta', 'HypsiboasCordobae', 'HylaMinuta', 'HypsiboasCordobae', 'LeptodactylusFuscus', 'AdenomeraHylaedactylus', 'HypsiboasCinerascens', 'Ameeregatrivittata', 'HypsiboasCinerascens', 'AdenomeraAndre', 'AdenomeraAndre', 'AdenomeraAndre', 'HylaMinuta']\n",
            "hamming loss is 0.04660643965716933 hamming score is 0.9533935603428306 hamming distance is 0.21698734965457325\n"
          ]
        }
      ],
      "source": [
        "from sklearn.cluster import KMeans\n",
        "from sklearn.metrics import silhouette_score\n",
        "from sklearn.metrics import hamming_loss\n",
        "from sklearn.metrics import accuracy_score\n",
        "\n",
        "#(a)\n",
        "good_choice = -1\n",
        "tmp = float('inf')\n",
        "h_distance = []\n",
        "h_loss = []\n",
        "h_score = []\n",
        "\n",
        "for k in range(2, 51):\n",
        "  model = KMeans(n_clusters=k, random_state=0)\n",
        "  t = silhouette_score(X, model.fit_predict(X))\n",
        "  h_distance.append(t)\n",
        "  if tmp > t:\n",
        "    tmp = t\n",
        "    good_choice = k\n",
        "  print('when k is', k, ', the best k is', good_choice)\n",
        "  \n",
        "  #(b)\n",
        "  model = KMeans(n_clusters=good_choice, random_state=0)\n",
        "  labels = model.fit_predict(X)\n",
        "  majority_family = [defaultdict(int) for _ in range(good_choice)]\n",
        "  majority_genus = [defaultdict(int) for _ in range(good_choice)]\n",
        "  majority_species = [defaultdict(int) for _ in range(good_choice)]\n",
        "  for i in range(len(y)):\n",
        "    majority_family[labels[i]][y.iloc[i][0]] += 1\n",
        "    majority_genus[labels[i]][y.iloc[i][1]] += 1\n",
        "    majority_species[labels[i]][y.iloc[i][2]] += 1\n",
        "\n",
        "  majority_family = [max(i, key=lambda x:i[x]) for i in majority_family]\n",
        "  majority_genus = [max(i, key=lambda x:i[x]) for i in majority_genus]\n",
        "  majority_species = [max(i, key=lambda x:i[x]) for i in majority_species]\n",
        "\n",
        "  print( 'majority family is',majority_family,'majority genus is',majority_genus, 'majority species is',majority_species)\n",
        "  \n",
        "  #c\n",
        "  look_up = []\n",
        "  for i,j,z in zip(majority_family, majority_genus,majority_species):\n",
        "    look_up.append((i, j, z))\n",
        "\n",
        "  predict_y = []\n",
        "  for i in range(len(labels)):\n",
        "    predict_y.append(look_up[labels[i]])\n",
        "  \n",
        "  \n",
        "  loss = np.sum(np.not_equal(y.to_numpy(), predict_y))/float(y.size)\n",
        "  score = np.sum(np.equal(y.to_numpy(), predict_y))/float(y.size)\n",
        "  h_loss.append(loss)\n",
        "  h_score.append(score)\n",
        "  print('hamming loss is', loss,'hamming score is',score,'hamming distance is',t)"
      ]
    },
    {
      "cell_type": "code",
      "execution_count": 44,
      "metadata": {
        "colab": {
          "base_uri": "https://localhost:8080/"
        },
        "id": "esgAZPGPzMTQ",
        "outputId": "666d68db-8103-470f-9b73-738cac72a707"
      },
      "outputs": [
        {
          "name": "stdout",
          "output_type": "stream",
          "text": [
            "the mean of the 50 Hamming Distances is 0.26722928820839453 , standard deviation is 0.03344312058958613\n"
          ]
        }
      ],
      "source": [
        "import numpy as np\n",
        "\n",
        "mean_hamming_distance = np.mean(h_distance)\n",
        "std_hamming_distance = np.std(h_distance)\n",
        "print('the mean of the 50 Hamming Distances is', mean_hamming_distance, ', standard deviation is', std_hamming_distance)"
      ]
    },
    {
      "cell_type": "markdown",
      "metadata": {
        "id": "zG_S1LOywRkF"
      },
      "source": [
        "#2(b)"
      ]
    },
    {
      "cell_type": "code",
      "execution_count": 45,
      "metadata": {
        "colab": {
          "base_uri": "https://localhost:8080/"
        },
        "id": "nM8igneTwSfw",
        "outputId": "784de5da-47a3-44f4-84cb-a74702940647"
      },
      "outputs": [
        {
          "name": "stdout",
          "output_type": "stream",
          "text": [
            "the mean of the 50 Hamming score is 0.26722928820839453 , standard deviation is 0.03344312058958613\n"
          ]
        }
      ],
      "source": [
        "mean_Hamming_score = np.mean(h_distance)\n",
        "std_Hamming_score = np.std(h_distance)\n",
        "print('the mean of the 50 Hamming score is', mean_Hamming_score, ', standard deviation is', std_Hamming_score)"
      ]
    },
    {
      "cell_type": "markdown",
      "metadata": {
        "id": "Ee0ah95UwSpF"
      },
      "source": [
        "#2(c)"
      ]
    },
    {
      "cell_type": "code",
      "execution_count": 46,
      "metadata": {
        "colab": {
          "base_uri": "https://localhost:8080/"
        },
        "id": "MLDigw7ywUdE",
        "outputId": "5ffeab75-8f2a-4912-ff12-bcc2912fbb72"
      },
      "outputs": [
        {
          "name": "stdout",
          "output_type": "stream",
          "text": [
            "the mean of the 50 Hamming loss is 0.13825171486245647 , standard deviation is 0.08068032662593413\n"
          ]
        }
      ],
      "source": [
        "mean_Hamming_loss = np.mean(h_loss)\n",
        "std_Hamming_loss = np.std(h_loss)\n",
        "print('the mean of the 50 Hamming loss is', mean_Hamming_loss, ', standard deviation is', std_Hamming_loss)"
      ]
    }
  ],
  "metadata": {
    "colab": {
      "collapsed_sections": [],
      "provenance": []
    },
    "kernelspec": {
      "display_name": "Python 3",
      "name": "python3"
    },
    "language_info": {
      "name": "python"
    }
  },
  "nbformat": 4,
  "nbformat_minor": 0
}
